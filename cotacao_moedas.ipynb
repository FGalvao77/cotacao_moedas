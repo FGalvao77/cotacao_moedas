{
 "cells": [
  {
   "cell_type": "code",
   "execution_count": 2,
   "metadata": {},
   "outputs": [],
   "source": [
    "import requests\n",
    "import datetime"
   ]
  },
  {
   "cell_type": "code",
   "execution_count": 3,
   "metadata": {},
   "outputs": [
    {
     "name": "stdout",
     "output_type": "stream",
     "text": [
      "\n",
      "O valor do dólar é: R$ 5.0264 | Data:  2022-03-05 12:38:14.807815\n",
      "Data da cotação: 2022-03-05 12:38:14.807815\n"
     ]
    }
   ],
   "source": [
    "# cotação do dólar americano\n",
    "def main():\n",
    "    url = requests.get('https://economia.awesomeapi.com.br/all/USD-BRL')\n",
    "\n",
    "    if url.status_code == 200:\n",
    "        valor_dolar = url.json()['USD']['low']\n",
    "        print(f'\\nO valor do dólar é: R$ {valor_dolar} | Data: {datetime.datetime.today()}')\n",
    "    else:\n",
    "        print(f'ERROR: {url.status_code}')\n",
    "\n",
    "if __name__ == '__main__':\n",
    "    main()"
   ]
  },
  {
   "cell_type": "code",
   "execution_count": 4,
   "metadata": {},
   "outputs": [
    {
     "name": "stdout",
     "output_type": "stream",
     "text": [
      "\n",
      "O valor do euro é: R$ 5.516 | Data: 2022-03-05 12:39:02.179854\n"
     ]
    }
   ],
   "source": [
    "# cotação do euro\n",
    "def main():\n",
    "    url = requests.get('https://economia.awesomeapi.com.br/all/EUR-BRL')\n",
    "\n",
    "    if url.status_code == 200:\n",
    "        valor_euro = url.json()['EUR']['low']\n",
    "        print(f'\\nO valor do euro é: R$ {valor_euro} | Data: {datetime.datetime.today()}')\n",
    "    else:\n",
    "        print(f'ERROR: {url.status_code}')\n",
    "\n",
    "if __name__ == '__main__':\n",
    "    main()"
   ]
  },
  {
   "cell_type": "code",
   "execution_count": 6,
   "metadata": {},
   "outputs": [
    {
     "name": "stdout",
     "output_type": "stream",
     "text": [
      "\n",
      "O valor do rublo é: R$ 0.04376 | Data: 2022-03-05 12:45:44.217911\n"
     ]
    }
   ],
   "source": [
    "# cotação do rublo russo\n",
    "def main():\n",
    "    url = requests.get('https://economia.awesomeapi.com.br/all/RUB-BRL')\n",
    "\n",
    "    if url.status_code == 200:\n",
    "        valor_rublo = url.json()['RUB']['low']\n",
    "        print(f'\\nO valor do rublo é: R$ {valor_rublo} | Data: {datetime.datetime.today()}')\n",
    "    else:\n",
    "        print(f'ERROR: {url.status_code}')\n",
    "\n",
    "if __name__ == '__main__':\n",
    "    main()"
   ]
  },
  {
   "cell_type": "code",
   "execution_count": null,
   "metadata": {},
   "outputs": [],
   "source": []
  }
 ],
 "metadata": {
  "interpreter": {
   "hash": "6bafd6474ce4b62c03605d0b33fc5128bd027b02227412e991dce6264322d045"
  },
  "kernelspec": {
   "display_name": "Python 3.9.10 64-bit (windows store)",
   "language": "python",
   "name": "python3"
  },
  "language_info": {
   "codemirror_mode": {
    "name": "ipython",
    "version": 3
   },
   "file_extension": ".py",
   "mimetype": "text/x-python",
   "name": "python",
   "nbconvert_exporter": "python",
   "pygments_lexer": "ipython3",
   "version": "3.9.10"
  },
  "orig_nbformat": 4
 },
 "nbformat": 4,
 "nbformat_minor": 2
}
